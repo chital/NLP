{
  "nbformat": 4,
  "nbformat_minor": 0,
  "metadata": {
    "colab": {
      "name": "bow_tfidf_vectorizer _updated.ipynb",
      "version": "0.3.2",
      "provenance": []
    },
    "kernelspec": {
      "name": "python3",
      "display_name": "Python 3"
    }
  },
  "cells": [
    {
      "cell_type": "code",
      "metadata": {
        "id": "2O8SbrNu_m1O",
        "colab_type": "code",
        "colab": {}
      },
      "source": [
        "import pandas as pd\n",
        "\n",
        "# read data\n",
        "reviews_df = pd.read_csv(\"train_Reviews.csv\")\n",
        "\n",
        "dmap = {\"good\": 1, \"bad\":-1,\"neutral\" : 0}\n",
        "\n",
        "reviews_df[\"review_status\"] = reviews_df[\"classification\"].replace(dmap)\n",
        "# select only relevant columns\n",
        "reviews_df = reviews_df[[\"review\", \"review_status\"]]"
      ],
      "execution_count": 0,
      "outputs": []
    },
    {
      "cell_type": "code",
      "metadata": {
        "id": "zT1YevKOD4lJ",
        "colab_type": "code",
        "colab": {}
      },
      "source": [
        "reviews_df = reviews_df.sample(frac = 0.5, replace = False, random_state=42)"
      ],
      "execution_count": 0,
      "outputs": []
    },
    {
      "cell_type": "code",
      "metadata": {
        "id": "QWz2TU2kNNmE",
        "colab_type": "code",
        "colab": {}
      },
      "source": [
        "reviews_df[\"review\"] = reviews_df[\"review\"].apply(lambda x: str(x).replace(\"No Negative\", \"\").replace(\"No Positive\", \"\"))"
      ],
      "execution_count": 0,
      "outputs": []
    },
    {
      "cell_type": "code",
      "metadata": {
        "id": "vpVf6XPdaiPR",
        "colab_type": "code",
        "outputId": "ad96a24e-8fc6-434b-d5a1-1e615e7f47d1",
        "colab": {
          "base_uri": "https://localhost:8080/",
          "height": 195
        }
      },
      "source": [
        "reviews_df.head()"
      ],
      "execution_count": 4,
      "outputs": [
        {
          "output_type": "execute_result",
          "data": {
            "text/html": [
              "<div>\n",
              "<style scoped>\n",
              "    .dataframe tbody tr th:only-of-type {\n",
              "        vertical-align: middle;\n",
              "    }\n",
              "\n",
              "    .dataframe tbody tr th {\n",
              "        vertical-align: top;\n",
              "    }\n",
              "\n",
              "    .dataframe thead th {\n",
              "        text-align: right;\n",
              "    }\n",
              "</style>\n",
              "<table border=\"1\" class=\"dataframe\">\n",
              "  <thead>\n",
              "    <tr style=\"text-align: right;\">\n",
              "      <th></th>\n",
              "      <th>review</th>\n",
              "      <th>review_status</th>\n",
              "    </tr>\n",
              "  </thead>\n",
              "  <tbody>\n",
              "    <tr>\n",
              "      <th>59961</th>\n",
              "      <td>Air condition didn t worked pretty old room s...</td>\n",
              "      <td>0</td>\n",
              "    </tr>\n",
              "    <tr>\n",
              "      <th>51906</th>\n",
              "      <td>Unfortunately the corridor before our room sm...</td>\n",
              "      <td>0</td>\n",
              "    </tr>\n",
              "    <tr>\n",
              "      <th>52156</th>\n",
              "      <td>WI FI VERY BAD SIGNAL NEVER COULD GET IT THEY...</td>\n",
              "      <td>0</td>\n",
              "    </tr>\n",
              "    <tr>\n",
              "      <th>62102</th>\n",
              "      <td>Stafff and the way they work a lot of things ...</td>\n",
              "      <td>0</td>\n",
              "    </tr>\n",
              "    <tr>\n",
              "      <th>55338</th>\n",
              "      <td>The pillows were too thick and hard The showe...</td>\n",
              "      <td>0</td>\n",
              "    </tr>\n",
              "  </tbody>\n",
              "</table>\n",
              "</div>"
            ],
            "text/plain": [
              "                                                  review  review_status\n",
              "59961   Air condition didn t worked pretty old room s...              0\n",
              "51906   Unfortunately the corridor before our room sm...              0\n",
              "52156   WI FI VERY BAD SIGNAL NEVER COULD GET IT THEY...              0\n",
              "62102   Stafff and the way they work a lot of things ...              0\n",
              "55338   The pillows were too thick and hard The showe...              0"
            ]
          },
          "metadata": {
            "tags": []
          },
          "execution_count": 4
        }
      ]
    },
    {
      "cell_type": "code",
      "metadata": {
        "id": "9iTb55NuOJjj",
        "colab_type": "code",
        "outputId": "660c9e95-4518-40ad-df0a-3104eda4263c",
        "colab": {
          "base_uri": "https://localhost:8080/",
          "height": 168
        }
      },
      "source": [
        "import nltk\n",
        "nltk.download('stopwords')\n",
        "nltk.download('averaged_perceptron_tagger')\n",
        "nltk.download('wordnet')"
      ],
      "execution_count": 5,
      "outputs": [
        {
          "output_type": "stream",
          "text": [
            "[nltk_data] Downloading package stopwords to /root/nltk_data...\n",
            "[nltk_data]   Package stopwords is already up-to-date!\n",
            "[nltk_data] Downloading package averaged_perceptron_tagger to\n",
            "[nltk_data]     /root/nltk_data...\n",
            "[nltk_data]   Package averaged_perceptron_tagger is already up-to-\n",
            "[nltk_data]       date!\n",
            "[nltk_data] Downloading package wordnet to /root/nltk_data...\n",
            "[nltk_data]   Package wordnet is already up-to-date!\n"
          ],
          "name": "stdout"
        },
        {
          "output_type": "execute_result",
          "data": {
            "text/plain": [
              "True"
            ]
          },
          "metadata": {
            "tags": []
          },
          "execution_count": 5
        }
      ]
    },
    {
      "cell_type": "code",
      "metadata": {
        "id": "xOFWAlFpNS5l",
        "colab_type": "code",
        "colab": {}
      },
      "source": [
        "from nltk.corpus import wordnet\n",
        "\n",
        "def get_wordnet_pos(pos_tag):\n",
        "    if pos_tag.startswith('J'):\n",
        "        return wordnet.ADJ\n",
        "    elif pos_tag.startswith('V'):\n",
        "        return wordnet.VERB\n",
        "    elif pos_tag.startswith('N'):\n",
        "        return wordnet.NOUN\n",
        "    elif pos_tag.startswith('R'):\n",
        "        return wordnet.ADV\n",
        "    else:\n",
        "        return wordnet.NOUN\n",
        "    \n",
        "import string\n",
        "from nltk import pos_tag\n",
        "from nltk.corpus import stopwords\n",
        "from nltk.tokenize import WhitespaceTokenizer\n",
        "from nltk.stem import WordNetLemmatizer\n",
        "\n",
        "def clean_text(text):\n",
        "    # lower text\n",
        "    text = text.lower()\n",
        "    # tokenize text and remove puncutation\n",
        "    text = [word.strip(string.punctuation) for word in text.split(\" \")]\n",
        "    # remove words that contain numbers\n",
        "    text = [word for word in text if not any(c.isdigit() for c in word)]\n",
        "    # remove stop words\n",
        "    stop = stopwords.words('english')\n",
        "    text = [x for x in text if x not in stop]\n",
        "    # remove empty tokens\n",
        "    text = [t for t in text if len(t) > 0]\n",
        "    # pos tag text\n",
        "    #pos_tags = pos_tag(text)\n",
        "    # lemmatize text\n",
        "    text = [WordNetLemmatizer().lemmatize(t) for t in text]\n",
        "    # remove words with only one letter\n",
        "    text = [t for t in text if len(t) > 1]\n",
        "    # join all\n",
        "    text = \" \".join(text)\n",
        "    #print(\"cleaning complete for\",text)\n",
        "    return(text)"
      ],
      "execution_count": 0,
      "outputs": []
    },
    {
      "cell_type": "code",
      "metadata": {
        "id": "u9b7Z2aFN7XS",
        "colab_type": "code",
        "colab": {}
      },
      "source": [
        "# clean text data\n",
        "reviews_df[\"review_clean\"] = reviews_df[\"review\"].apply(lambda x: clean_text(str(x)))"
      ],
      "execution_count": 0,
      "outputs": []
    },
    {
      "cell_type": "code",
      "metadata": {
        "id": "yYsfTVE8OqvY",
        "colab_type": "code",
        "colab": {}
      },
      "source": [
        "from sklearn.feature_extraction.text import CountVectorizer  \n",
        "bow_vectorizer = CountVectorizer(max_features=3000, min_df=5, max_df=0.7, stop_words=stopwords.words('english'),ngram_range=(1,2))  \n",
        "bow_result = bow_vectorizer.fit_transform(reviews_df[\"review_clean\"]).toarray()\n",
        "bow_df = pd.DataFrame(bow_result,columns = bow_vectorizer.get_feature_names())\n",
        "bow_df.index = reviews_df.index\n",
        "bow_df_final = pd.concat([bow_df,reviews_df[\"review_status\"]],axis=1)"
      ],
      "execution_count": 0,
      "outputs": []
    },
    {
      "cell_type": "code",
      "metadata": {
        "id": "Nl84I4L3iwPC",
        "colab_type": "code",
        "colab": {}
      },
      "source": [
        "from sklearn.feature_extraction.text import TfidfVectorizer\n",
        "tfidf_vectorizer = TfidfVectorizer(min_df = 10)\n",
        "tfidf_result = tfidf_vectorizer.fit_transform(reviews_df[\"review_clean\"]).toarray()\n",
        "tfidf_df = pd.DataFrame(tfidf_result, columns = tfidf_vectorizer.get_feature_names())\n",
        "tfidf_df.index = reviews_df.index\n",
        "tfidf_df_final = pd.concat([tfidf_df,reviews_df[\"review_status\"]],axis=1)"
      ],
      "execution_count": 0,
      "outputs": []
    },
    {
      "cell_type": "code",
      "metadata": {
        "id": "mq7o684zP2hR",
        "colab_type": "code",
        "colab": {}
      },
      "source": [
        "\n",
        "# feature selection\n",
        "label = \"review_status\"\n",
        "ignore_cols = [label, \"review\", \"review_clean\"]\n",
        "features = [c for c in bow_df_final.columns if c not in ignore_cols]\n",
        "\n",
        "# split the data into train and test\n",
        "from sklearn.ensemble import RandomForestClassifier\n",
        "from sklearn.model_selection import train_test_split\n",
        "\n",
        "X_train, X_test, y_train, y_test = train_test_split(bow_df_final[features], bow_df_final[label], test_size = 0.20, random_state = 42)"
      ],
      "execution_count": 0,
      "outputs": []
    },
    {
      "cell_type": "code",
      "metadata": {
        "id": "_oKi_hk_TD8h",
        "colab_type": "code",
        "outputId": "aab5c47c-c5bd-4125-e1dc-a4a2fcc76fe9",
        "colab": {
          "base_uri": "https://localhost:8080/",
          "height": 134
        }
      },
      "source": [
        "# train a random forest classifier\n",
        "\n",
        "rf = RandomForestClassifier(n_estimators = 100, random_state = 42 )\n",
        "rf.fit(X_train, y_train)"
      ],
      "execution_count": 11,
      "outputs": [
        {
          "output_type": "execute_result",
          "data": {
            "text/plain": [
              "RandomForestClassifier(bootstrap=True, class_weight=None, criterion='gini',\n",
              "                       max_depth=None, max_features='auto', max_leaf_nodes=None,\n",
              "                       min_impurity_decrease=0.0, min_impurity_split=None,\n",
              "                       min_samples_leaf=1, min_samples_split=2,\n",
              "                       min_weight_fraction_leaf=0.0, n_estimators=100,\n",
              "                       n_jobs=None, oob_score=False, random_state=42, verbose=0,\n",
              "                       warm_start=False)"
            ]
          },
          "metadata": {
            "tags": []
          },
          "execution_count": 11
        }
      ]
    },
    {
      "cell_type": "code",
      "metadata": {
        "id": "wfVicAhzTFeU",
        "colab_type": "code",
        "outputId": "23a62438-da68-46ac-bf5b-9e94c59cfb4c",
        "colab": {
          "base_uri": "https://localhost:8080/",
          "height": 34
        }
      },
      "source": [
        "rf.score(X_test,y_test)"
      ],
      "execution_count": 12,
      "outputs": [
        {
          "output_type": "execute_result",
          "data": {
            "text/plain": [
              "0.6721726549312756"
            ]
          },
          "metadata": {
            "tags": []
          },
          "execution_count": 12
        }
      ]
    },
    {
      "cell_type": "code",
      "metadata": {
        "id": "ptbYzIanTWOO",
        "colab_type": "code",
        "colab": {}
      },
      "source": [
        "y_pred = rf.predict(X_test)"
      ],
      "execution_count": 0,
      "outputs": []
    },
    {
      "cell_type": "code",
      "metadata": {
        "id": "1PdRiEF_XfO1",
        "colab_type": "code",
        "outputId": "01bb7b7e-f925-439c-8be9-b9da3da1e9bf",
        "colab": {
          "base_uri": "https://localhost:8080/",
          "height": 34
        }
      },
      "source": [
        "X_test.shape"
      ],
      "execution_count": 0,
      "outputs": [
        {
          "output_type": "execute_result",
          "data": {
            "text/plain": [
              "(516, 1240)"
            ]
          },
          "metadata": {
            "tags": []
          },
          "execution_count": 81
        }
      ]
    },
    {
      "cell_type": "code",
      "metadata": {
        "id": "4U5aXpEwTMQ1",
        "colab_type": "code",
        "outputId": "cbc2e8e0-dbc8-40d7-a3c9-55d4e6ef2a6c",
        "colab": {
          "base_uri": "https://localhost:8080/",
          "height": 252
        }
      },
      "source": [
        "from sklearn.metrics import classification_report, confusion_matrix, accuracy_score\n",
        "\n",
        "print(confusion_matrix(y_test,y_pred))  \n",
        "print(classification_report(y_test,y_pred))  \n",
        "print(accuracy_score(y_test, y_pred))  "
      ],
      "execution_count": 14,
      "outputs": [
        {
          "output_type": "stream",
          "text": [
            "[[1205  728  179]\n",
            " [ 360 2041  741]\n",
            " [ 122  589 2329]]\n",
            "              precision    recall  f1-score   support\n",
            "\n",
            "          -1       0.71      0.57      0.63      2112\n",
            "           0       0.61      0.65      0.63      3142\n",
            "           1       0.72      0.77      0.74      3040\n",
            "\n",
            "    accuracy                           0.67      8294\n",
            "   macro avg       0.68      0.66      0.67      8294\n",
            "weighted avg       0.67      0.67      0.67      8294\n",
            "\n",
            "0.6721726549312756\n"
          ],
          "name": "stdout"
        }
      ]
    },
    {
      "cell_type": "code",
      "metadata": {
        "id": "PbHD7JcIjjTf",
        "colab_type": "code",
        "colab": {}
      },
      "source": [
        "label = \"review_status\"\n",
        "ignore_cols = [label, \"review\", \"review_clean\"]\n",
        "features = [c for c in tfidf_df_final.columns if c not in ignore_cols]\n",
        "\n",
        "# split the data into train and test\n",
        "from sklearn.ensemble import RandomForestClassifier\n",
        "from sklearn.model_selection import train_test_split\n",
        "\n",
        "X_train, X_test, y_train, y_test = train_test_split(tfidf_df_final[features], tfidf_df_final[label], test_size = 0.20, random_state = 42)"
      ],
      "execution_count": 0,
      "outputs": []
    },
    {
      "cell_type": "code",
      "metadata": {
        "id": "KpsJTQ4Jjv4N",
        "colab_type": "code",
        "outputId": "7b81221b-c2b8-4b92-d216-8402d76528cd",
        "colab": {
          "base_uri": "https://localhost:8080/",
          "height": 134
        }
      },
      "source": [
        "# train a random forest classifier\n",
        "rf2 = RandomForestClassifier(n_estimators = 100, random_state = 42)\n",
        "rf2.fit(X_train, y_train)"
      ],
      "execution_count": 16,
      "outputs": [
        {
          "output_type": "execute_result",
          "data": {
            "text/plain": [
              "RandomForestClassifier(bootstrap=True, class_weight=None, criterion='gini',\n",
              "                       max_depth=None, max_features='auto', max_leaf_nodes=None,\n",
              "                       min_impurity_decrease=0.0, min_impurity_split=None,\n",
              "                       min_samples_leaf=1, min_samples_split=2,\n",
              "                       min_weight_fraction_leaf=0.0, n_estimators=100,\n",
              "                       n_jobs=None, oob_score=False, random_state=42, verbose=0,\n",
              "                       warm_start=False)"
            ]
          },
          "metadata": {
            "tags": []
          },
          "execution_count": 16
        }
      ]
    },
    {
      "cell_type": "code",
      "metadata": {
        "id": "Ql1YW3wfj5b8",
        "colab_type": "code",
        "outputId": "daee2f41-cdbe-4f9b-9f89-7b8d806f148e",
        "colab": {
          "base_uri": "https://localhost:8080/",
          "height": 34
        }
      },
      "source": [
        "rf2.score(X_test,y_test)"
      ],
      "execution_count": 18,
      "outputs": [
        {
          "output_type": "execute_result",
          "data": {
            "text/plain": [
              "0.6646973715939233"
            ]
          },
          "metadata": {
            "tags": []
          },
          "execution_count": 18
        }
      ]
    },
    {
      "cell_type": "code",
      "metadata": {
        "id": "1uDc-RiLT-xK",
        "colab_type": "code",
        "colab": {}
      },
      "source": [
        "\n",
        "gen_df = pd.read_csv('predict_Reviews.csv')"
      ],
      "execution_count": 0,
      "outputs": []
    },
    {
      "cell_type": "code",
      "metadata": {
        "id": "UmzQdpSrUBoY",
        "colab_type": "code",
        "outputId": "19bffcf5-7584-4b5e-a391-85cba9c270eb",
        "colab": {
          "base_uri": "https://localhost:8080/",
          "height": 166
        }
      },
      "source": [
        "\n",
        "gen_df.groupby('classification').count()"
      ],
      "execution_count": 21,
      "outputs": [
        {
          "output_type": "execute_result",
          "data": {
            "text/html": [
              "<div>\n",
              "<style scoped>\n",
              "    .dataframe tbody tr th:only-of-type {\n",
              "        vertical-align: middle;\n",
              "    }\n",
              "\n",
              "    .dataframe tbody tr th {\n",
              "        vertical-align: top;\n",
              "    }\n",
              "\n",
              "    .dataframe thead th {\n",
              "        text-align: right;\n",
              "    }\n",
              "</style>\n",
              "<table border=\"1\" class=\"dataframe\">\n",
              "  <thead>\n",
              "    <tr style=\"text-align: right;\">\n",
              "      <th></th>\n",
              "      <th>review</th>\n",
              "    </tr>\n",
              "    <tr>\n",
              "      <th>classification</th>\n",
              "      <th></th>\n",
              "    </tr>\n",
              "  </thead>\n",
              "  <tbody>\n",
              "    <tr>\n",
              "      <th>bad</th>\n",
              "      <td>482</td>\n",
              "    </tr>\n",
              "    <tr>\n",
              "      <th>good</th>\n",
              "      <td>645</td>\n",
              "    </tr>\n",
              "    <tr>\n",
              "      <th>neutral</th>\n",
              "      <td>628</td>\n",
              "    </tr>\n",
              "  </tbody>\n",
              "</table>\n",
              "</div>"
            ],
            "text/plain": [
              "                review\n",
              "classification        \n",
              "bad                482\n",
              "good               645\n",
              "neutral            628"
            ]
          },
          "metadata": {
            "tags": []
          },
          "execution_count": 21
        }
      ]
    },
    {
      "cell_type": "code",
      "metadata": {
        "id": "GdUPwUIxUKeV",
        "colab_type": "code",
        "colab": {}
      },
      "source": [
        "gen_df['review_status'] = gen_df['classification'].replace(dmap)"
      ],
      "execution_count": 0,
      "outputs": []
    },
    {
      "cell_type": "code",
      "metadata": {
        "id": "oFNvMFvkUNIa",
        "colab_type": "code",
        "colab": {}
      },
      "source": [
        "gen_df.drop('classification',axis=1,inplace=True)"
      ],
      "execution_count": 0,
      "outputs": []
    },
    {
      "cell_type": "code",
      "metadata": {
        "id": "nvTT7QEWUTTf",
        "colab_type": "code",
        "colab": {}
      },
      "source": [
        "# clean text data\n",
        "gen_df[\"review_clean\"] = gen_df[\"review\"].apply(lambda x: clean_text(str(x)))"
      ],
      "execution_count": 0,
      "outputs": []
    },
    {
      "cell_type": "code",
      "metadata": {
        "id": "zdwNUSJuUjgM",
        "colab_type": "code",
        "colab": {}
      },
      "source": [
        "gen_result = bow_vectorizer.transform(gen_df[\"review_clean\"]).toarray()"
      ],
      "execution_count": 0,
      "outputs": []
    },
    {
      "cell_type": "code",
      "metadata": {
        "id": "c1Pvn4iCVDsM",
        "colab_type": "code",
        "colab": {}
      },
      "source": [
        "pred_df = pd.DataFrame(gen_result,columns = bow_vectorizer.get_feature_names())\n",
        "pred_df.index = gen_df.index\n",
        "pred_df_final = pd.concat([pred_df,gen_df[\"review_status\"]],axis=1)"
      ],
      "execution_count": 0,
      "outputs": []
    },
    {
      "cell_type": "code",
      "metadata": {
        "id": "iBt-e2TpVAvT",
        "colab_type": "code",
        "colab": {}
      },
      "source": [
        "#feature selection\n",
        "gen_label = \"review_status\"\n",
        "ignore_cols = [gen_label, \"review\", \"review_clean\"]\n",
        "pred_features = [c for c in pred_df_final.columns if c not in ignore_cols]\n",
        "pred_df_final.fillna(0,inplace=True)\n",
        "pred_x = pred_df_final[pred_features]\n",
        "pred_y = pred_df_final[gen_label]"
      ],
      "execution_count": 0,
      "outputs": []
    },
    {
      "cell_type": "code",
      "metadata": {
        "id": "hmYj1YvHWfyR",
        "colab_type": "code",
        "outputId": "3c6c55aa-4a08-4b96-bf5a-74cde77e0314",
        "colab": {
          "base_uri": "https://localhost:8080/",
          "height": 34
        }
      },
      "source": [
        "rf.predict(pred_x)"
      ],
      "execution_count": 33,
      "outputs": [
        {
          "output_type": "execute_result",
          "data": {
            "text/plain": [
              "array([-1, -1,  0, ..., -1, -1,  0])"
            ]
          },
          "metadata": {
            "tags": []
          },
          "execution_count": 33
        }
      ]
    },
    {
      "cell_type": "code",
      "metadata": {
        "id": "sc1B26h2gXGx",
        "colab_type": "code",
        "outputId": "8fb675fc-ee8e-41e2-c7df-19c2622dc192",
        "colab": {
          "base_uri": "https://localhost:8080/",
          "height": 34
        }
      },
      "source": [
        "rf.score(pred_x,pred_y)"
      ],
      "execution_count": 34,
      "outputs": [
        {
          "output_type": "execute_result",
          "data": {
            "text/plain": [
              "0.6719727117680501"
            ]
          },
          "metadata": {
            "tags": []
          },
          "execution_count": 34
        }
      ]
    }
  ]
}